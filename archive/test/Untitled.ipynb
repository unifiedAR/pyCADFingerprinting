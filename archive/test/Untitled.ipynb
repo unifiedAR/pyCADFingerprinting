{
 "cells": [
  {
   "cell_type": "code",
   "execution_count": 1,
   "metadata": {},
   "outputs": [
    {
     "name": "stdout",
     "output_type": "stream",
     "text": [
      "INFO:OCC.Display.backend:backend loaded: qt-pyqt5\n",
      "INFO:OCC.Display.SimpleGui:GUI backend set to: qt-pyqt5\n",
      "Layer manager created\n",
      "Layer dimensions: 1024, 768\n"
     ]
    },
    {
     "data": {
      "text/plain": [
       "<OCC.AIS.Handle_AIS_Shape; proxy of <Swig Object of type 'Handle_AIS_Shape *' at 0x11574a720> >"
      ]
     },
     "execution_count": 1,
     "metadata": {},
     "output_type": "execute_result"
    }
   ],
   "source": [
    "from OCC.STEPControl import STEPControl_Reader\n",
    "step_reader = STEPControl_Reader()\n",
    "step_reader.ReadFile('models/cylinder_block.stp')\n",
    "step_reader.TransferRoot()\n",
    "block_cylinder_shape = step_reader.Shape()\n",
    "\n",
    "from OCC.Display.SimpleGui import init_display\n",
    "display, start_display, add_menu, add_function_to_menu = init_display()\n",
    "display.DisplayShape(block_cylinder_shape, update=True)\n"
   ]
  },
  {
   "cell_type": "code",
   "execution_count": null,
   "metadata": {},
   "outputs": [],
   "source": []
  }
 ],
 "metadata": {
  "kernelspec": {
   "display_name": "Python 3",
   "language": "python",
   "name": "python3"
  },
  "language_info": {
   "codemirror_mode": {
    "name": "ipython",
    "version": 3
   },
   "file_extension": ".py",
   "mimetype": "text/x-python",
   "name": "python",
   "nbconvert_exporter": "python",
   "pygments_lexer": "ipython3",
   "version": "3.5.5"
  }
 },
 "nbformat": 4,
 "nbformat_minor": 2
}
